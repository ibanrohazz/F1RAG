{
 "cells": [
  {
   "cell_type": "markdown",
   "id": "772e93e4",
   "metadata": {},
   "source": [
    "# F1RAG: Formula 1 Retrieval-Augmented Generation System\n",
    "\n",
    "This notebook demonstrates the end-to-end workflow of the F1RAG system, which leverages historical Formula 1 data to generate race summaries using retrieval-augmented generation (RAG) techniques. The workflow includes data processing, model training, summary generation, and visualization."
   ]
  },
  {
   "cell_type": "markdown",
   "id": "652f7a90",
   "metadata": {},
   "source": [
    "## 1. Environment Setup\n",
    "\n",
    "Ensure all dependencies are installed and the environment is ready. If running for the first time, install required packages and set up the data directory."
   ]
  },
  {
   "cell_type": "code",
   "execution_count": 1,
   "id": "b66bfc29",
   "metadata": {},
   "outputs": [],
   "source": [
    "# Install dependencies (uncomment if needed)\n",
    "# %pip install torch transformers datasets scikit-learn pandas matplotlib seaborn\n",
    "# !python install_deps.py"
   ]
  },
  {
   "cell_type": "markdown",
   "id": "9840030b",
   "metadata": {},
   "source": [
    "## 2. Data Preparation\n",
    "\n",
    "Process and load the Formula 1 race data. If you have not yet processed the raw data, run the data processing script."
   ]
  },
  {
   "cell_type": "code",
   "execution_count": null,
   "id": "bdde69e5",
   "metadata": {},
   "outputs": [
    {
     "ename": "ModuleNotFoundError",
     "evalue": "No module named 'src'",
     "output_type": "error",
     "traceback": [
      "\u001b[31m---------------------------------------------------------------------------\u001b[39m",
      "\u001b[31mModuleNotFoundError\u001b[39m                       Traceback (most recent call last)",
      "\u001b[36mCell\u001b[39m\u001b[36m \u001b[39m\u001b[32mIn[5]\u001b[39m\u001b[32m, line 4\u001b[39m\n\u001b[32m      1\u001b[39m \u001b[38;5;66;03m# Process raw data if needed (uncomment to run)\u001b[39;00m\n\u001b[32m      2\u001b[39m \u001b[38;5;66;03m# !python src/data_processing.py\u001b[39;00m\n\u001b[32m----> \u001b[39m\u001b[32m4\u001b[39m \u001b[38;5;28;01mfrom\u001b[39;00m\u001b[38;5;250m \u001b[39m\u001b[34;01msrc\u001b[39;00m\u001b[34;01m.\u001b[39;00m\u001b[34;01mdata_processing\u001b[39;00m\u001b[38;5;250m \u001b[39m\u001b[38;5;28;01mimport\u001b[39;00m load_race_data, preprocess_race_data, extract_race_information\n\u001b[32m      6\u001b[39m \u001b[38;5;66;03m# Load race data\u001b[39;00m\n\u001b[32m      7\u001b[39m file_path = \u001b[33m'\u001b[39m\u001b[33mdata/processed/race_data.csv\u001b[39m\u001b[33m'\u001b[39m\n",
      "\u001b[31mModuleNotFoundError\u001b[39m: No module named 'src'"
     ]
    }
   ],
   "source": [
    "import sys\n",
    "import os\n",
    "sys.path.append(os.path.abspath(os.path.join(os.getcwd(), '../src')))\n",
    "\n",
    "from data_processing import load_race_data, preprocess_race_data, extract_race_information\n",
    "\n",
    "# Load race data\n",
    "file_path = 'data/processed/race_data.csv'\n",
    "race_data = load_race_data(file_path)\n",
    "\n",
    "# Preprocess race data\n",
    "preprocessed_data = preprocess_race_data(race_data)\n",
    "\n",
    "# Extract relevant race information\n",
    "race_info = extract_race_information(preprocessed_data)\n",
    "print(f\"Loaded {len(race_info)} race entries.\")"
   ]
  },
  {
   "cell_type": "markdown",
   "id": "b788e3d9",
   "metadata": {},
   "source": [
    "## 3. Model Setup\n",
    "\n",
    "Initialize the RAG model and tokenizer. The model will be trained to generate summaries based on the processed race data."
   ]
  },
  {
   "cell_type": "code",
   "execution_count": null,
   "id": "bc895643",
   "metadata": {},
   "outputs": [],
   "source": [
    "from src.rag_model import train_rag_model, evaluate_rag_model, generate_race_summaries\n",
    "\n",
    "# Prepare training data\n",
    "training_data = [str(info) for info in race_info.values()]\n",
    "\n",
    "# (Optional) Set model parameters\n",
    "model_name = 'facebook/rag-sequence-nq'\n",
    "epochs = 3\n",
    "batch_size = 4\n",
    "learning_rate = 1e-5\n",
    "output_dir = 'models'"
   ]
  },
  {
   "cell_type": "markdown",
   "id": "e1a7ba56",
   "metadata": {},
   "source": [
    "## 4. Model Training\n",
    "\n",
    "Train the RAG model on the Formula 1 race data. This step may take some time depending on hardware and dataset size."
   ]
  },
  {
   "cell_type": "code",
   "execution_count": null,
   "id": "f841924a",
   "metadata": {},
   "outputs": [],
   "source": [
    "# Train the RAG model\n",
    "rag_model, tokenizer = train_rag_model(\n",
    "    training_data,\n",
    "    model_name=model_name,\n",
    "    epochs=epochs,\n",
    "    batch_size=batch_size,\n",
    "    learning_rate=learning_rate,\n",
    "    output_dir=output_dir\n",
    ")"
   ]
  },
  {
   "cell_type": "markdown",
   "id": "a00977de",
   "metadata": {},
   "source": [
    "## 5. Model Evaluation\n",
    "\n",
    "Evaluate the trained model's performance on the training data or a held-out validation set."
   ]
  },
  {
   "cell_type": "code",
   "execution_count": null,
   "id": "c6e0a115",
   "metadata": {},
   "outputs": [],
   "source": [
    "# Evaluate the RAG model\n",
    "accuracy = evaluate_rag_model(rag_model, training_data)\n",
    "print(f\"Model accuracy: {accuracy:.2f}\")"
   ]
  },
  {
   "cell_type": "markdown",
   "id": "20e314b4",
   "metadata": {},
   "source": [
    "## 6. Generate Race Summaries\n",
    "\n",
    "Use the trained model to generate natural language summaries for Formula 1 races."
   ]
  },
  {
   "cell_type": "code",
   "execution_count": null,
   "id": "7eae9b02",
   "metadata": {},
   "outputs": [],
   "source": [
    "# Generate race summaries\n",
    "race_summaries = generate_race_summaries(rag_model, training_data)\n",
    "print(race_summaries[0])"
   ]
  },
  {
   "cell_type": "markdown",
   "id": "d45f89cc",
   "metadata": {},
   "source": [
    "## 7. Visualization\n",
    "\n",
    "Visualize the generated race summaries and explore the results interactively."
   ]
  },
  {
   "cell_type": "code",
   "execution_count": null,
   "id": "c7ab0605",
   "metadata": {},
   "outputs": [],
   "source": [
    "from src.visualization import visualize_race_summaries, create_user_interface\n",
    "\n",
    "# Visualize race summaries\n",
    "visualize_race_summaries(race_summaries)\n",
    "\n",
    "# Create user interface for exploring race summaries\n",
    "create_user_interface(race_summaries)"
   ]
  },
  {
   "cell_type": "markdown",
   "id": "414e5391",
   "metadata": {},
   "source": [
    "---\n",
    "\n",
    "**End of F1RAG System Notebook**"
   ]
  }
 ],
 "metadata": {
  "kernelspec": {
   "display_name": "Python 3",
   "language": "python",
   "name": "python3"
  },
  "language_info": {
   "codemirror_mode": {
    "name": "ipython",
    "version": 3
   },
   "file_extension": ".py",
   "mimetype": "text/x-python",
   "name": "python",
   "nbconvert_exporter": "python",
   "pygments_lexer": "ipython3",
   "version": "3.11.9"
  }
 },
 "nbformat": 4,
 "nbformat_minor": 5
}
