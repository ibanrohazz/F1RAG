{
 "cells": [
  {
   "cell_type": "markdown",
   "metadata": {
    "id": "gHOp9Ls0FwZ3"
   },
   "source": [
    "Load the Formula 1 Dataset"
   ]
  },
  {
   "cell_type": "code",
   "execution_count": 1,
   "metadata": {
    "colab": {
     "base_uri": "https://localhost:8080/"
    },
    "id": "JH61pGc5GVPa",
    "outputId": "08432e86-f48e-4077-c639-f52a50c77c22"
   },
   "outputs": [
    {
     "name": "stdout",
     "output_type": "stream",
     "text": [
      "Requirement already satisfied: pandas in c:\\users\\mroja\\appdata\\local\\packages\\pythonsoftwarefoundation.python.3.11_qbz5n2kfra8p0\\localcache\\local-packages\\python311\\site-packages (2.2.3)\n",
      "Requirement already satisfied: torch in c:\\users\\mroja\\appdata\\local\\packages\\pythonsoftwarefoundation.python.3.11_qbz5n2kfra8p0\\localcache\\local-packages\\python311\\site-packages (2.7.0)\n",
      "Requirement already satisfied: scikit-learn in c:\\users\\mroja\\appdata\\local\\packages\\pythonsoftwarefoundation.python.3.11_qbz5n2kfra8p0\\localcache\\local-packages\\python311\\site-packages (1.6.1)\n",
      "Requirement already satisfied: transformers in c:\\users\\mroja\\appdata\\local\\packages\\pythonsoftwarefoundation.python.3.11_qbz5n2kfra8p0\\localcache\\local-packages\\python311\\site-packages (4.51.3)\n",
      "Requirement already satisfied: faiss-cpu in c:\\users\\mroja\\appdata\\local\\packages\\pythonsoftwarefoundation.python.3.11_qbz5n2kfra8p0\\localcache\\local-packages\\python311\\site-packages (1.10.0)\n",
      "Requirement already satisfied: tqdm in c:\\users\\mroja\\appdata\\local\\packages\\pythonsoftwarefoundation.python.3.11_qbz5n2kfra8p0\\localcache\\local-packages\\python311\\site-packages (4.67.1)\n",
      "Requirement already satisfied: kagglehub in c:\\users\\mroja\\appdata\\local\\packages\\pythonsoftwarefoundation.python.3.11_qbz5n2kfra8p0\\localcache\\local-packages\\python311\\site-packages (0.3.12)\n",
      "Requirement already satisfied: numpy>=1.23.2 in c:\\users\\mroja\\appdata\\local\\packages\\pythonsoftwarefoundation.python.3.11_qbz5n2kfra8p0\\localcache\\local-packages\\python311\\site-packages (from pandas) (2.2.5)\n",
      "Requirement already satisfied: python-dateutil>=2.8.2 in c:\\users\\mroja\\appdata\\local\\packages\\pythonsoftwarefoundation.python.3.11_qbz5n2kfra8p0\\localcache\\local-packages\\python311\\site-packages (from pandas) (2.9.0.post0)\n",
      "Requirement already satisfied: pytz>=2020.1 in c:\\users\\mroja\\appdata\\local\\packages\\pythonsoftwarefoundation.python.3.11_qbz5n2kfra8p0\\localcache\\local-packages\\python311\\site-packages (from pandas) (2025.2)\n",
      "Requirement already satisfied: tzdata>=2022.7 in c:\\users\\mroja\\appdata\\local\\packages\\pythonsoftwarefoundation.python.3.11_qbz5n2kfra8p0\\localcache\\local-packages\\python311\\site-packages (from pandas) (2025.2)\n",
      "Requirement already satisfied: filelock in c:\\users\\mroja\\appdata\\local\\packages\\pythonsoftwarefoundation.python.3.11_qbz5n2kfra8p0\\localcache\\local-packages\\python311\\site-packages (from torch) (3.18.0)\n",
      "Requirement already satisfied: typing-extensions>=4.10.0 in c:\\users\\mroja\\appdata\\local\\packages\\pythonsoftwarefoundation.python.3.11_qbz5n2kfra8p0\\localcache\\local-packages\\python311\\site-packages (from torch) (4.13.2)\n",
      "Requirement already satisfied: sympy>=1.13.3 in c:\\users\\mroja\\appdata\\local\\packages\\pythonsoftwarefoundation.python.3.11_qbz5n2kfra8p0\\localcache\\local-packages\\python311\\site-packages (from torch) (1.13.3)\n",
      "Requirement already satisfied: networkx in c:\\users\\mroja\\appdata\\local\\packages\\pythonsoftwarefoundation.python.3.11_qbz5n2kfra8p0\\localcache\\local-packages\\python311\\site-packages (from torch) (3.4.2)\n",
      "Requirement already satisfied: jinja2 in c:\\users\\mroja\\appdata\\local\\packages\\pythonsoftwarefoundation.python.3.11_qbz5n2kfra8p0\\localcache\\local-packages\\python311\\site-packages (from torch) (3.1.6)\n",
      "Requirement already satisfied: fsspec in c:\\users\\mroja\\appdata\\local\\packages\\pythonsoftwarefoundation.python.3.11_qbz5n2kfra8p0\\localcache\\local-packages\\python311\\site-packages (from torch) (2024.12.0)\n",
      "Requirement already satisfied: scipy>=1.6.0 in c:\\users\\mroja\\appdata\\local\\packages\\pythonsoftwarefoundation.python.3.11_qbz5n2kfra8p0\\localcache\\local-packages\\python311\\site-packages (from scikit-learn) (1.15.2)\n",
      "Requirement already satisfied: joblib>=1.2.0 in c:\\users\\mroja\\appdata\\local\\packages\\pythonsoftwarefoundation.python.3.11_qbz5n2kfra8p0\\localcache\\local-packages\\python311\\site-packages (from scikit-learn) (1.4.2)\n",
      "Requirement already satisfied: threadpoolctl>=3.1.0 in c:\\users\\mroja\\appdata\\local\\packages\\pythonsoftwarefoundation.python.3.11_qbz5n2kfra8p0\\localcache\\local-packages\\python311\\site-packages (from scikit-learn) (3.6.0)\n",
      "Requirement already satisfied: huggingface-hub<1.0,>=0.30.0 in c:\\users\\mroja\\appdata\\local\\packages\\pythonsoftwarefoundation.python.3.11_qbz5n2kfra8p0\\localcache\\local-packages\\python311\\site-packages (from transformers) (0.30.2)\n",
      "Requirement already satisfied: packaging>=20.0 in c:\\users\\mroja\\appdata\\local\\packages\\pythonsoftwarefoundation.python.3.11_qbz5n2kfra8p0\\localcache\\local-packages\\python311\\site-packages (from transformers) (25.0)\n",
      "Requirement already satisfied: pyyaml>=5.1 in c:\\users\\mroja\\appdata\\local\\packages\\pythonsoftwarefoundation.python.3.11_qbz5n2kfra8p0\\localcache\\local-packages\\python311\\site-packages (from transformers) (6.0.2)\n",
      "Requirement already satisfied: regex!=2019.12.17 in c:\\users\\mroja\\appdata\\local\\packages\\pythonsoftwarefoundation.python.3.11_qbz5n2kfra8p0\\localcache\\local-packages\\python311\\site-packages (from transformers) (2024.11.6)\n",
      "Requirement already satisfied: requests in c:\\users\\mroja\\appdata\\local\\packages\\pythonsoftwarefoundation.python.3.11_qbz5n2kfra8p0\\localcache\\local-packages\\python311\\site-packages (from transformers) (2.32.3)\n",
      "Requirement already satisfied: tokenizers<0.22,>=0.21 in c:\\users\\mroja\\appdata\\local\\packages\\pythonsoftwarefoundation.python.3.11_qbz5n2kfra8p0\\localcache\\local-packages\\python311\\site-packages (from transformers) (0.21.1)\n",
      "Requirement already satisfied: safetensors>=0.4.3 in c:\\users\\mroja\\appdata\\local\\packages\\pythonsoftwarefoundation.python.3.11_qbz5n2kfra8p0\\localcache\\local-packages\\python311\\site-packages (from transformers) (0.5.3)\n",
      "Requirement already satisfied: colorama in c:\\users\\mroja\\appdata\\local\\packages\\pythonsoftwarefoundation.python.3.11_qbz5n2kfra8p0\\localcache\\local-packages\\python311\\site-packages (from tqdm) (0.4.6)\n",
      "Requirement already satisfied: six>=1.5 in c:\\users\\mroja\\appdata\\local\\packages\\pythonsoftwarefoundation.python.3.11_qbz5n2kfra8p0\\localcache\\local-packages\\python311\\site-packages (from python-dateutil>=2.8.2->pandas) (1.17.0)\n",
      "Requirement already satisfied: mpmath<1.4,>=1.1.0 in c:\\users\\mroja\\appdata\\local\\packages\\pythonsoftwarefoundation.python.3.11_qbz5n2kfra8p0\\localcache\\local-packages\\python311\\site-packages (from sympy>=1.13.3->torch) (1.3.0)\n",
      "Requirement already satisfied: MarkupSafe>=2.0 in c:\\users\\mroja\\appdata\\local\\packages\\pythonsoftwarefoundation.python.3.11_qbz5n2kfra8p0\\localcache\\local-packages\\python311\\site-packages (from jinja2->torch) (3.0.2)\n",
      "Requirement already satisfied: charset-normalizer<4,>=2 in c:\\users\\mroja\\appdata\\local\\packages\\pythonsoftwarefoundation.python.3.11_qbz5n2kfra8p0\\localcache\\local-packages\\python311\\site-packages (from requests->transformers) (3.4.1)\n",
      "Requirement already satisfied: idna<4,>=2.5 in c:\\users\\mroja\\appdata\\local\\packages\\pythonsoftwarefoundation.python.3.11_qbz5n2kfra8p0\\localcache\\local-packages\\python311\\site-packages (from requests->transformers) (3.10)\n",
      "Requirement already satisfied: urllib3<3,>=1.21.1 in c:\\users\\mroja\\appdata\\local\\packages\\pythonsoftwarefoundation.python.3.11_qbz5n2kfra8p0\\localcache\\local-packages\\python311\\site-packages (from requests->transformers) (2.4.0)\n",
      "Requirement already satisfied: certifi>=2017.4.17 in c:\\users\\mroja\\appdata\\local\\packages\\pythonsoftwarefoundation.python.3.11_qbz5n2kfra8p0\\localcache\\local-packages\\python311\\site-packages (from requests->transformers) (2025.4.26)\n",
      "Note: you may need to restart the kernel to use updated packages.\n"
     ]
    },
    {
     "name": "stderr",
     "output_type": "stream",
     "text": [
      "\n",
      "[notice] A new release of pip is available: 24.0 -> 25.1\n",
      "[notice] To update, run: C:\\Users\\mroja\\AppData\\Local\\Microsoft\\WindowsApps\\PythonSoftwareFoundation.Python.3.11_qbz5n2kfra8p0\\python.exe -m pip install --upgrade pip\n"
     ]
    }
   ],
   "source": [
    "# Install all necessary libraries\n",
    "%pip install pandas torch scikit-learn transformers faiss-cpu tqdm kagglehub"
   ]
  },
  {
   "cell_type": "code",
   "execution_count": 2,
   "metadata": {
    "colab": {
     "base_uri": "https://localhost:8080/"
    },
    "id": "X-8CuYa3HbHU",
    "outputId": "edc022b4-8b14-4479-ee49-fe9a4919d489"
   },
   "outputs": [
    {
     "name": "stderr",
     "output_type": "stream",
     "text": [
      "C:\\Users\\mroja\\AppData\\Local\\Temp\\ipykernel_15716\\2064014931.py:6: DeprecationWarning: load_dataset is deprecated and will be removed in a future version.\n",
      "  races = kagglehub.load_dataset(\n",
      "C:\\Users\\mroja\\AppData\\Local\\Temp\\ipykernel_15716\\2064014931.py:11: DeprecationWarning: load_dataset is deprecated and will be removed in a future version.\n",
      "  drivers = kagglehub.load_dataset(\n",
      "C:\\Users\\mroja\\AppData\\Local\\Temp\\ipykernel_15716\\2064014931.py:11: DeprecationWarning: load_dataset is deprecated and will be removed in a future version.\n",
      "  drivers = kagglehub.load_dataset(\n",
      "C:\\Users\\mroja\\AppData\\Local\\Temp\\ipykernel_15716\\2064014931.py:16: DeprecationWarning: load_dataset is deprecated and will be removed in a future version.\n",
      "  results = kagglehub.load_dataset(\n",
      "C:\\Users\\mroja\\AppData\\Local\\Temp\\ipykernel_15716\\2064014931.py:16: DeprecationWarning: load_dataset is deprecated and will be removed in a future version.\n",
      "  results = kagglehub.load_dataset(\n",
      "C:\\Users\\mroja\\AppData\\Local\\Temp\\ipykernel_15716\\2064014931.py:21: DeprecationWarning: load_dataset is deprecated and will be removed in a future version.\n",
      "  constructors = kagglehub.load_dataset(\n",
      "C:\\Users\\mroja\\AppData\\Local\\Temp\\ipykernel_15716\\2064014931.py:21: DeprecationWarning: load_dataset is deprecated and will be removed in a future version.\n",
      "  constructors = kagglehub.load_dataset(\n"
     ]
    },
    {
     "name": "stdout",
     "output_type": "stream",
     "text": [
      "Loaded: 1125 races, 861 drivers, 26759 results.\n"
     ]
    }
   ],
   "source": [
    "import kagglehub\n",
    "from kagglehub import KaggleDatasetAdapter\n",
    "import pandas as pd\n",
    "\n",
    "# Load all necessary files into separate DataFrames\n",
    "races = kagglehub.load_dataset(\n",
    "    KaggleDatasetAdapter.PANDAS,\n",
    "    \"rohanrao/formula-1-world-championship-1950-2020\",\n",
    "    \"races.csv\"\n",
    ")\n",
    "drivers = kagglehub.load_dataset(\n",
    "    KaggleDatasetAdapter.PANDAS,\n",
    "    \"rohanrao/formula-1-world-championship-1950-2020\",\n",
    "    \"drivers.csv\"\n",
    ")\n",
    "results = kagglehub.load_dataset(\n",
    "    KaggleDatasetAdapter.PANDAS,\n",
    "    \"rohanrao/formula-1-world-championship-1950-2020\",\n",
    "    \"results.csv\"\n",
    ")\n",
    "constructors = kagglehub.load_dataset(\n",
    "    KaggleDatasetAdapter.PANDAS,\n",
    "    \"rohanrao/formula-1-world-championship-1950-2020\",\n",
    "    \"constructors.csv\"\n",
    ")\n",
    "\n",
    "# Now you can access the data directly:\n",
    "print(\"Loaded:\", len(races), \"races,\", len(drivers), \"drivers,\", len(results), \"results.\")\n",
    "\n",
    "# If you want to combine them into a single DataFrame:\n",
    "# Create a 'table' column for each DataFrame\n",
    "races['table'] = 'races'\n",
    "drivers['table'] = 'drivers'\n",
    "results['table'] = 'results'\n",
    "constructors['table'] = 'constructors'\n",
    "\n",
    "# Concatenate the DataFrames\n",
    "f1_df = pd.concat([races, drivers, results, constructors], ignore_index=True)"
   ]
  },
  {
   "cell_type": "code",
   "execution_count": 3,
   "metadata": {
    "colab": {
     "base_uri": "https://localhost:8080/"
    },
    "id": "GoXhWvsHFe8j",
    "outputId": "5c2927c0-d698-4765-8172-4458e1ddd821"
   },
   "outputs": [
    {
     "name": "stdout",
     "output_type": "stream",
     "text": [
      "Loaded: 1125 races, 861 drivers, 26759 results.\n"
     ]
    }
   ],
   "source": [
    "# Assuming your new DataFrame is called 'f1_df'\n",
    "import pandas as pd\n",
    "import torch\n",
    "import torch.nn.functional as F\n",
    "from transformers import AutoTokenizer, AutoModel\n",
    "from sklearn.model_selection import train_test_split\n",
    "import faiss\n",
    "from tqdm import tqdm\n",
    "\n",
    "# No need to load from CSV anymore\n",
    "# races = pd.read_csv('races.csv')\n",
    "# drivers = pd.read_csv('drivers.csv')\n",
    "# results = pd.read_csv('results.csv')\n",
    "# constructors = pd.read_csv('constructors.csv')\n",
    "\n",
    "# Access data directly from the new DataFrame\n",
    "races = f1_df[f1_df['table'] == 'races']  # Assuming 'table' column identifies data type\n",
    "drivers = f1_df[f1_df['table'] == 'drivers']\n",
    "results = f1_df[f1_df['table'] == 'results']\n",
    "constructors = f1_df[f1_df['table'] == 'constructors']\n",
    "\n",
    "print(\"Loaded:\", len(races), \"races,\", len(drivers), \"drivers,\", len(results), \"results.\")"
   ]
  },
  {
   "cell_type": "markdown",
   "metadata": {
    "id": "hy4Z1o01Fx44"
   },
   "source": [
    "Build the F1 Knowledge Base"
   ]
  },
  {
   "cell_type": "code",
   "execution_count": 4,
   "metadata": {
    "colab": {
     "base_uri": "https://localhost:8080/",
     "height": 356
    },
    "id": "zB24yq19FmeM",
    "outputId": "8379f627-b53d-415a-9d50-3df08e839b72"
   },
   "outputs": [
    {
     "name": "stdout",
     "output_type": "stream",
     "text": [
      "['raceId_f1data', 'year_results', 'round_results', 'circuitId_results', 'name_results', 'date_results', 'time_results', 'url_results', 'fp1_date_results', 'fp1_time_results', 'fp2_date_results', 'fp2_time_results', 'fp3_date_results', 'fp3_time_results', 'quali_date_results', 'quali_time_results', 'sprint_date_results', 'sprint_time_results', 'table_results', 'driverId_results', 'driverRef_results', 'number_results', 'code_results', 'forename_results', 'surname_results', 'dob_results', 'nationality_results', 'resultId_results', 'constructorId_results', 'grid_results', 'position_results', 'positionText_results', 'positionOrder_results', 'points_results', 'laps_results', 'milliseconds_results', 'fastestLap_results', 'rank_results', 'fastestLapTime_results', 'fastestLapSpeed_results', 'statusId_results', 'constructorRef_results', 'year_races', 'round_races', 'circuitId_races', 'name_races', 'date_races', 'time_races', 'url_races', 'fp1_date_races', 'fp1_time_races', 'fp2_date_races', 'fp2_time_races', 'fp3_date_races', 'fp3_time_races', 'quali_date_races', 'quali_time_races', 'sprint_date_races', 'sprint_time_races', 'table_races', 'driverId_races', 'driverRef_races', 'number_races', 'code_races', 'forename_races', 'surname_races', 'dob_races', 'nationality_races', 'resultId_races', 'constructorId_races', 'grid_races', 'position_races', 'positionText_races', 'positionOrder_races', 'points_races', 'laps_races', 'milliseconds_races', 'fastestLap_races', 'rank_races', 'fastestLapTime_races', 'fastestLapSpeed_races', 'statusId_races', 'constructorRef_races', 'raceId_drivers', 'year_f1data', 'round_f1data', 'circuitId_f1data', 'name_f1data', 'date_f1data', 'time_f1data', 'url_f1data', 'fp1_date_f1data', 'fp1_time_f1data', 'fp2_date_f1data', 'fp2_time_f1data', 'fp3_date_f1data', 'fp3_time_f1data', 'quali_date_f1data', 'quali_time_f1data', 'sprint_date_f1data', 'sprint_time_f1data', 'table_f1data', 'driverId_f1data', 'driverRef_f1data', 'number_f1data', 'code_f1data', 'forename_f1data', 'surname_f1data', 'dob_f1data', 'nationality_f1data', 'resultId_f1data', 'constructorId_f1data', 'grid_f1data', 'position_f1data', 'positionText_f1data', 'positionOrder_f1data', 'points_f1data', 'laps_f1data', 'milliseconds_f1data', 'fastestLap_f1data', 'rank_f1data', 'fastestLapTime_f1data', 'fastestLapSpeed_f1data', 'statusId_f1data', 'constructorRef_f1data', 'raceId', 'year_constructors', 'round_constructors', 'circuitId_constructors', 'name_constructors', 'date_constructors', 'time_constructors', 'url_constructors', 'fp1_date_constructors', 'fp1_time_constructors', 'fp2_date_constructors', 'fp2_time_constructors', 'fp3_date_constructors', 'fp3_time_constructors', 'quali_date_constructors', 'quali_time_constructors', 'sprint_date_constructors', 'sprint_time_constructors', 'table_constructors', 'driverId_constructors', 'driverRef_constructors', 'number_constructors', 'code_constructors', 'forename_constructors', 'surname_constructors', 'dob_constructors', 'nationality_constructors', 'resultId_constructors', 'constructorId_constructors', 'grid_constructors', 'position_constructors', 'positionText_constructors', 'positionOrder_constructors', 'points_constructors', 'laps_constructors', 'milliseconds_constructors', 'fastestLap_constructors', 'rank_constructors', 'fastestLapTime_constructors', 'fastestLapSpeed_constructors', 'statusId_constructors', 'constructorRef_constructors']\n",
      "Sample Fact: In 2008, Lewis Hamilton won the Australian Grand Prix driving for McLaren.\n",
      "Sample Fact: In 2008, Lewis Hamilton won the Australian Grand Prix driving for McLaren.\n"
     ]
    }
   ],
   "source": [
    "f1_data = results.merge(races, on='raceId', suffixes=('_results', '_races'))\n",
    "f1_data = f1_data.merge(drivers, left_on='driverId_results', right_on='driverId', suffixes=('_f1data', '_drivers'))\n",
    "f1_data = f1_data.merge(constructors, left_on='constructorId_results', right_on='constructorId', suffixes=('_f1data', '_constructors'))\n",
    "\n",
    "# Only winning results\n",
    "winners = f1_data[f1_data['positionOrder_results'] == 1].copy()\n",
    "\n",
    "# Inspect columns to determine correct driver and constructor column names\n",
    "print(winners.columns.tolist())\n",
    "\n",
    "# Use the correct columns for driver names (update as needed after inspecting columns)\n",
    "winners.loc[:, 'fact'] = winners.apply(\n",
    "    lambda row: f\"In {row['year_races']:.0f}, {row['forename_f1data']} {row['surname_f1data']} won the {row['name_races']} driving for {row['name_constructors']}.\",\n",
    "    axis=1\n",
    ")\n",
    "f1_facts = winners[['fact']].reset_index(drop=True)\n",
    "\n",
    "print(\"Sample Fact:\", f1_facts.iloc[0]['fact'])"
   ]
  },
  {
   "cell_type": "markdown",
   "metadata": {
    "id": "t07ZLcGYF1Jf"
   },
   "source": [
    "Embed the Knowledge Base"
   ]
  },
  {
   "cell_type": "code",
   "execution_count": 5,
   "metadata": {
    "id": "fposwmHpFoYi"
   },
   "outputs": [
    {
     "name": "stderr",
     "output_type": "stream",
     "text": [
      "100%|██████████| 36/36 [00:03<00:00, 10.91it/s]"
     ]
    },
    {
     "name": "stdout",
     "output_type": "stream",
     "text": [
      "Embedded 1128 facts.\n"
     ]
    },
    {
     "name": "stderr",
     "output_type": "stream",
     "text": [
      "\n"
     ]
    }
   ],
   "source": [
    "# Load model\n",
    "model_name = 'sentence-transformers/all-MiniLM-L6-v2'\n",
    "tokenizer = AutoTokenizer.from_pretrained(model_name)\n",
    "bert = AutoModel.from_pretrained(model_name)\n",
    "\n",
    "# Embedding function\n",
    "def compute_embeddings(texts, batch_size=32):\n",
    "    all_embeddings = []\n",
    "    for i in tqdm(range(0, len(texts), batch_size)):\n",
    "        batch = texts[i:i+batch_size]\n",
    "        inputs = tokenizer(batch, return_tensors='pt', padding=True, truncation=True)\n",
    "        with torch.no_grad():\n",
    "            outputs = bert(**inputs)\n",
    "            embeddings = outputs.last_hidden_state[:, 0]\n",
    "            embeddings = F.normalize(embeddings, dim=1)\n",
    "            all_embeddings.append(embeddings.cpu())\n",
    "    return torch.cat(all_embeddings, dim=0)\n",
    "\n",
    "# Compute\n",
    "fact_embeddings = compute_embeddings(f1_facts['fact'].tolist())\n",
    "print(\"Embedded\", fact_embeddings.shape[0], \"facts.\")\n"
   ]
  },
  {
   "cell_type": "markdown",
   "metadata": {
    "id": "YFwdKq9CF3yA"
   },
   "source": [
    "Define the FAISS Retriever"
   ]
  },
  {
   "cell_type": "code",
   "execution_count": 6,
   "metadata": {
    "id": "8zXqb9s6FqA0"
   },
   "outputs": [],
   "source": [
    "class F1FAISSRetriever:\n",
    "    def __init__(self, facts, embeddings):\n",
    "        self.facts = facts\n",
    "        dim = embeddings.shape[1]\n",
    "        self.index = faiss.IndexFlatIP(dim)\n",
    "        self.index.add(embeddings.numpy())\n",
    "\n",
    "    def retrieve(self, query, k=3):\n",
    "        # --- New: Pre-filter facts by year and circuit if present in query ---\n",
    "        import re\n",
    "        filtered_facts = self.facts\n",
    "        # Try to extract a year\n",
    "        year_match = re.search(r\"\\b(19|20)\\d{2}\\b\", query)\n",
    "        if year_match:\n",
    "            year = year_match.group(0)\n",
    "            filtered_facts = [fact for fact in filtered_facts if year in fact]\n",
    "        # Try to extract a circuit/race name (e.g., Monaco, Silverstone)\n",
    "        for keyword in [\"Monaco\", \"Silverstone\", \"Abu Dhabi\", \"Bahrain\", \"Malaysia\", \"Las Vegas\", \"Qatar\", \"São Paulo\", \"Mexico City\", \"Austrian\", \"German\", \"South African\"]:\n",
    "            if keyword.lower() in query.lower():\n",
    "                filtered_facts = [fact for fact in filtered_facts if keyword in fact]\n",
    "        # If filtering results in no facts, fall back to all\n",
    "        if not filtered_facts:\n",
    "            filtered_facts = self.facts\n",
    "\n",
    "        # Embed only filtered facts\n",
    "        inputs = tokenizer(filtered_facts, return_tensors='pt', padding=True, truncation=True)\n",
    "        with torch.no_grad():\n",
    "            outputs = bert(**inputs)\n",
    "            fact_embs = outputs.last_hidden_state[:, 0]\n",
    "            fact_embs = F.normalize(fact_embs, dim=1)\n",
    "        # Embed query\n",
    "        q_inputs = tokenizer(query, return_tensors='pt', truncation=True, padding=True)\n",
    "        with torch.no_grad():\n",
    "            q_output = bert(**q_inputs)\n",
    "            query_emb = q_output.last_hidden_state[:, 0]\n",
    "            query_emb = F.normalize(query_emb, dim=1)\n",
    "        # Compute similarity manually\n",
    "        sims = torch.matmul(query_emb, fact_embs.T).squeeze(0)\n",
    "        topk = torch.topk(sims, min(k, len(filtered_facts)))\n",
    "        results = [(filtered_facts[idx], float(sims[idx])) for idx in topk.indices]\n",
    "        return results\n",
    "\n",
    "retriever = F1FAISSRetriever(f1_facts['fact'].tolist(), fact_embeddings)\n"
   ]
  },
  {
   "cell_type": "markdown",
   "metadata": {
    "id": "xoKrYm-2F5k9"
   },
   "source": [
    "Build the Conversational Chatbot"
   ]
  },
  {
   "cell_type": "code",
   "execution_count": 18,
   "metadata": {
    "id": "XhBW3YvwFrZT"
   },
   "outputs": [],
   "source": [
    "class F1Chatbot:\n",
    "    def __init__(self, retriever):\n",
    "        self.retriever = retriever\n",
    "        self.chat_history = []\n",
    "        # Extract all available variables/columns for flexible querying\n",
    "        self.available_columns = list(winners.columns)\n",
    "        self.available_columns_lower = [col.lower() for col in self.available_columns]\n",
    "\n",
    "    def extract_drivers(self, query):\n",
    "        # Simple extraction: look for known driver names in the query\n",
    "        driver_names = winners['forename_f1data'] + ' ' + winners['surname_f1data']\n",
    "        found = []\n",
    "        for name in driver_names.unique():\n",
    "            if isinstance(name, str) and name.lower() in query.lower():\n",
    "                found.append(name)\n",
    "        return list(set(found))\n",
    "\n",
    "    def compare_drivers(self, driver1, driver2):\n",
    "        # Aggregate wins for each driver\n",
    "        d1_wins = winners[\n",
    "            (winners['forename_f1data'] + ' ' + winners['surname_f1data'] == driver1)\n",
    "        ]\n",
    "        d2_wins = winners[\n",
    "            (winners['forename_f1data'] + ' ' + winners['surname_f1data'] == driver2)\n",
    "        ]\n",
    "        # Head-to-head: races where both participated\n",
    "        races_both = set(d1_wins['name_races']).intersection(set(d2_wins['name_races']))\n",
    "        answer = (\n",
    "            f\"{driver1} has {len(d1_wins)} wins.\\n\"\n",
    "            f\"{driver2} has {len(d2_wins)} wins.\\n\"\n",
    "            f\"Races both have won: {', '.join(races_both) if races_both else 'None'}.\"\n",
    "        )\n",
    "        return answer\n",
    "\n",
    "    def extract_constructor(self, query):\n",
    "        # Look for known constructor names in the query\n",
    "        constructor_names = winners['name_constructors'].dropna().unique()\n",
    "        found = []\n",
    "        for name in constructor_names:\n",
    "            if isinstance(name, str) and name.lower() in query.lower():\n",
    "                found.append(name)\n",
    "        return list(set(found))\n",
    "\n",
    "    def constructor_wins(self, constructor):\n",
    "        # Aggregate wins for the constructor\n",
    "        c_wins = winners[winners['name_constructors'] == constructor]\n",
    "        facts = c_wins['fact'].tolist()\n",
    "        answer = (\n",
    "            f\"{constructor} has {len(facts)} race wins.\\n\"\n",
    "            + \"\\n\".join([f\"- {fact}\" for fact in facts[:3]])\n",
    "        )\n",
    "        return answer\n",
    "\n",
    "    def get_champion_for_year(self, year):\n",
    "        # Find the driver with the most wins in the given year\n",
    "        year_mask = winners['year_races'] == float(year)\n",
    "        year_winners = winners[year_mask]\n",
    "        if year_winners.empty:\n",
    "            return f\"No race winners found for {year}.\"\n",
    "        # Count wins per driver\n",
    "        driver_names = year_winners['forename_f1data'] + ' ' + year_winners['surname_f1data']\n",
    "        champion = driver_names.value_counts().idxmax()\n",
    "        wins = driver_names.value_counts().max()\n",
    "        champion_team = year_winners[\n",
    "            (year_winners['forename_f1data'] + ' ' + year_winners['surname_f1data']) == champion\n",
    "        ]['name_constructors'].mode().iloc[0]\n",
    "        answer = (\n",
    "            f\"The champion for {year} (most race wins): {champion} ({wins} wins, driving for {champion_team}).\\n\"\n",
    "            \"Race wins:\\n\" +\n",
    "            \"\\n\".join([\n",
    "                f\"- {row['fact']}\"\n",
    "                for _, row in year_winners[\n",
    "                    (year_winners['forename_f1data'] + ' ' + year_winners['surname_f1data']) == champion\n",
    "                ].iterrows()\n",
    "            ])\n",
    "        )\n",
    "        return answer\n",
    "\n",
    "    def extract_column_from_query(self, query):\n",
    "        # Try to match a column/variable from the query\n",
    "        for col, col_lower in zip(self.available_columns, self.available_columns_lower):\n",
    "            if col_lower in query.lower():\n",
    "                return col\n",
    "        # Try to match by keywords (e.g., \"year\", \"driver\", \"constructor\", etc.)\n",
    "        keywords = {\n",
    "            \"year\": \"year_races\",\n",
    "            \"driver\": \"forename_f1data\",\n",
    "            \"constructor\": \"name_constructors\",\n",
    "            \"race\": \"name_races\",\n",
    "            \"circuit\": \"name_races\",\n",
    "            \"nationality\": \"nationality_f1data\",\n",
    "            \"points\": \"points_results\",\n",
    "            \"laps\": \"laps_results\",\n",
    "            \"position\": \"position_results\"\n",
    "        }\n",
    "        for key, col in keywords.items():\n",
    "            if key in query.lower():\n",
    "                return col\n",
    "        return None\n",
    "\n",
    "    def get_column_values(self, column, filter_query=None, limit=5):\n",
    "        # Optionally filter by a keyword in the query\n",
    "        df = winners\n",
    "        if filter_query:\n",
    "            df = df[df.apply(lambda row: filter_query.lower() in str(row).lower(), axis=1)]\n",
    "        values = df[column].dropna().unique()\n",
    "        return values[:limit]\n",
    "\n",
    "    def chat(self, query, top_k=3):\n",
    "        # Detect driver comparison\n",
    "        drivers = self.extract_drivers(query)\n",
    "        if \"who would win\" in query.lower() and len(drivers) == 2:\n",
    "            answer = self.compare_drivers(drivers[0], drivers[1])\n",
    "            self.chat_history.append({\"user\": query})\n",
    "            self.chat_history.append({\"bot\": answer})\n",
    "            print(f\"\\nUser: {query}\")\n",
    "            print(f\"Bot:\\n{answer}\\n\")\n",
    "            return\n",
    "\n",
    "        # Detect constructor win queries\n",
    "        constructors = self.extract_constructor(query)\n",
    "        if constructors and (\"win\" in query.lower() or \"victor\" in query.lower()):\n",
    "            answer = self.constructor_wins(constructors[0])\n",
    "            self.chat_history.append({\"user\": query})\n",
    "            self.chat_history.append({\"bot\": answer})\n",
    "            print(f\"\\nUser: {query}\")\n",
    "            print(f\"Bot:\\n{answer}\\n\")\n",
    "            return\n",
    "\n",
    "        # Detect champion for year queries\n",
    "        import re\n",
    "        match = re.search(r'champion.*(\\d{4})', query.lower())\n",
    "        if match:\n",
    "            year = match.group(1)\n",
    "            answer = self.get_champion_for_year(year)\n",
    "            self.chat_history.append({\"user\": query})\n",
    "            self.chat_history.append({\"bot\": answer})\n",
    "            print(f\"\\nUser: {query}\")\n",
    "            print(f\"Bot:\\n{answer}\\n\")\n",
    "            return\n",
    "\n",
    "        # Variable extraction\n",
    "        col = self.extract_column_from_query(query)\n",
    "        if col:\n",
    "            values = self.get_column_values(col, filter_query=query)\n",
    "            answer = f\"Sample values for '{col}': {', '.join(map(str, values))}\"\n",
    "            self.chat_history.append({\"user\": query})\n",
    "            self.chat_history.append({\"bot\": answer})\n",
    "            print(f\"\\nUser: {query}\")\n",
    "            print(f\"Bot:\\n{answer}\\n\")\n",
    "            return\n",
    "\n",
    "        self.chat_history.append({\"user\": query})\n",
    "        results = self.retriever.retrieve(query, k=top_k)\n",
    "        answer = \"\\n\".join([f\"- {fact}\" for fact, score in results])\n",
    "        self.chat_history.append({\"bot\": answer})\n",
    "\n",
    "        print(f\"\\nUser: {query}\")\n",
    "        print(f\"Bot:\\n{answer}\\n\")\n",
    "\n",
    "    def show_history(self):\n",
    "        for turn in self.chat_history:\n",
    "            for speaker, text in turn.items():\n",
    "                print(f\"{speaker.capitalize()}: {text}\\n\")\n",
    "\n",
    "f1_chatbot = F1Chatbot(retriever)\n"
   ]
  },
  {
   "cell_type": "markdown",
   "metadata": {
    "id": "E136cSx_F6wy"
   },
   "source": [
    "Example Chat"
   ]
  },
  {
   "cell_type": "code",
   "execution_count": 19,
   "metadata": {
    "id": "xcCZxGzlFs6P"
   },
   "outputs": [
    {
     "name": "stdout",
     "output_type": "stream",
     "text": [
      "\n",
      "User: Who won the Monaco Grand Prix in 2019?\n",
      "Bot:\n",
      "- In 2019, Lewis Hamilton won the Monaco Grand Prix driving for Mercedes.\n",
      "\n",
      "\n",
      "User: How about Silverstone in 2014?\n",
      "Bot:\n",
      "- In 2014, Nico Rosberg won the Austrian Grand Prix driving for Mercedes.\n",
      "- In 1993, Alain Prost won the German Grand Prix driving for Williams.\n",
      "- In 1993, Alain Prost won the South African Grand Prix driving for Williams.\n",
      "\n",
      "\n",
      "User: Who was champion in 2008?\n",
      "Bot:\n",
      "The champion for 2008 (most race wins): Felipe Massa (6 wins, driving for Ferrari).\n",
      "Race wins:\n",
      "- In 2008, Felipe Massa won the Bahrain Grand Prix driving for Ferrari.\n",
      "- In 2008, Felipe Massa won the Turkish Grand Prix driving for Ferrari.\n",
      "- In 2008, Felipe Massa won the French Grand Prix driving for Ferrari.\n",
      "- In 2008, Felipe Massa won the European Grand Prix driving for Ferrari.\n",
      "- In 2008, Felipe Massa won the Belgian Grand Prix driving for Ferrari.\n",
      "- In 2008, Felipe Massa won the Brazilian Grand Prix driving for Ferrari.\n",
      "\n"
     ]
    }
   ],
   "source": [
    "f1_chatbot.chat(\"Who won the Monaco Grand Prix in 2019?\")\n",
    "f1_chatbot.chat(\"How about Silverstone in 2014?\")\n",
    "f1_chatbot.chat(\"Who was champion in 2008?\")\n"
   ]
  },
  {
   "cell_type": "code",
   "execution_count": 20,
   "metadata": {
    "id": "dcSu9R5WFt1k"
   },
   "outputs": [],
   "source": [
    "# Save FAISS index\n",
    "# faiss.write_index(retriever.index, 'f1_facts.index')\n",
    "\n",
    "# Load FAISS index\n",
    "# retriever.index = faiss.read_index('f1_facts.index')\n"
   ]
  },
  {
   "cell_type": "code",
   "execution_count": 21,
   "metadata": {},
   "outputs": [
    {
     "name": "stdout",
     "output_type": "stream",
     "text": [
      "Requirement already satisfied: ipywidgets in c:\\users\\mroja\\appdata\\local\\packages\\pythonsoftwarefoundation.python.3.11_qbz5n2kfra8p0\\localcache\\local-packages\\python311\\site-packages (8.1.6)\n",
      "Requirement already satisfied: comm>=0.1.3 in c:\\users\\mroja\\appdata\\local\\packages\\pythonsoftwarefoundation.python.3.11_qbz5n2kfra8p0\\localcache\\local-packages\\python311\\site-packages (from ipywidgets) (0.2.2)\n",
      "Requirement already satisfied: ipython>=6.1.0 in c:\\users\\mroja\\appdata\\local\\packages\\pythonsoftwarefoundation.python.3.11_qbz5n2kfra8p0\\localcache\\local-packages\\python311\\site-packages (from ipywidgets) (9.2.0)\n",
      "Requirement already satisfied: traitlets>=4.3.1 in c:\\users\\mroja\\appdata\\local\\packages\\pythonsoftwarefoundation.python.3.11_qbz5n2kfra8p0\\localcache\\local-packages\\python311\\site-packages (from ipywidgets) (5.14.3)\n",
      "Requirement already satisfied: widgetsnbextension~=4.0.14 in c:\\users\\mroja\\appdata\\local\\packages\\pythonsoftwarefoundation.python.3.11_qbz5n2kfra8p0\\localcache\\local-packages\\python311\\site-packages (from ipywidgets) (4.0.14)\n",
      "Requirement already satisfied: jupyterlab_widgets~=3.0.14 in c:\\users\\mroja\\appdata\\local\\packages\\pythonsoftwarefoundation.python.3.11_qbz5n2kfra8p0\\localcache\\local-packages\\python311\\site-packages (from ipywidgets) (3.0.14)\n",
      "Requirement already satisfied: colorama in c:\\users\\mroja\\appdata\\local\\packages\\pythonsoftwarefoundation.python.3.11_qbz5n2kfra8p0\\localcache\\local-packages\\python311\\site-packages (from ipython>=6.1.0->ipywidgets) (0.4.6)\n",
      "Requirement already satisfied: decorator in c:\\users\\mroja\\appdata\\local\\packages\\pythonsoftwarefoundation.python.3.11_qbz5n2kfra8p0\\localcache\\local-packages\\python311\\site-packages (from ipython>=6.1.0->ipywidgets) (5.2.1)\n",
      "Requirement already satisfied: ipython-pygments-lexers in c:\\users\\mroja\\appdata\\local\\packages\\pythonsoftwarefoundation.python.3.11_qbz5n2kfra8p0\\localcache\\local-packages\\python311\\site-packages (from ipython>=6.1.0->ipywidgets) (1.1.1)\n",
      "Requirement already satisfied: jedi>=0.16 in c:\\users\\mroja\\appdata\\local\\packages\\pythonsoftwarefoundation.python.3.11_qbz5n2kfra8p0\\localcache\\local-packages\\python311\\site-packages (from ipython>=6.1.0->ipywidgets) (0.19.2)\n",
      "Requirement already satisfied: matplotlib-inline in c:\\users\\mroja\\appdata\\local\\packages\\pythonsoftwarefoundation.python.3.11_qbz5n2kfra8p0\\localcache\\local-packages\\python311\\site-packages (from ipython>=6.1.0->ipywidgets) (0.1.7)\n",
      "Requirement already satisfied: prompt_toolkit<3.1.0,>=3.0.41 in c:\\users\\mroja\\appdata\\local\\packages\\pythonsoftwarefoundation.python.3.11_qbz5n2kfra8p0\\localcache\\local-packages\\python311\\site-packages (from ipython>=6.1.0->ipywidgets) (3.0.51)\n",
      "Requirement already satisfied: pygments>=2.4.0 in c:\\users\\mroja\\appdata\\local\\packages\\pythonsoftwarefoundation.python.3.11_qbz5n2kfra8p0\\localcache\\local-packages\\python311\\site-packages (from ipython>=6.1.0->ipywidgets) (2.19.1)\n",
      "Requirement already satisfied: stack_data in c:\\users\\mroja\\appdata\\local\\packages\\pythonsoftwarefoundation.python.3.11_qbz5n2kfra8p0\\localcache\\local-packages\\python311\\site-packages (from ipython>=6.1.0->ipywidgets) (0.6.3)\n",
      "Requirement already satisfied: typing_extensions>=4.6 in c:\\users\\mroja\\appdata\\local\\packages\\pythonsoftwarefoundation.python.3.11_qbz5n2kfra8p0\\localcache\\local-packages\\python311\\site-packages (from ipython>=6.1.0->ipywidgets) (4.13.2)\n",
      "Requirement already satisfied: parso<0.9.0,>=0.8.4 in c:\\users\\mroja\\appdata\\local\\packages\\pythonsoftwarefoundation.python.3.11_qbz5n2kfra8p0\\localcache\\local-packages\\python311\\site-packages (from jedi>=0.16->ipython>=6.1.0->ipywidgets) (0.8.4)\n",
      "Requirement already satisfied: wcwidth in c:\\users\\mroja\\appdata\\local\\packages\\pythonsoftwarefoundation.python.3.11_qbz5n2kfra8p0\\localcache\\local-packages\\python311\\site-packages (from prompt_toolkit<3.1.0,>=3.0.41->ipython>=6.1.0->ipywidgets) (0.2.13)\n",
      "Requirement already satisfied: executing>=1.2.0 in c:\\users\\mroja\\appdata\\local\\packages\\pythonsoftwarefoundation.python.3.11_qbz5n2kfra8p0\\localcache\\local-packages\\python311\\site-packages (from stack_data->ipython>=6.1.0->ipywidgets) (2.2.0)\n",
      "Requirement already satisfied: asttokens>=2.1.0 in c:\\users\\mroja\\appdata\\local\\packages\\pythonsoftwarefoundation.python.3.11_qbz5n2kfra8p0\\localcache\\local-packages\\python311\\site-packages (from stack_data->ipython>=6.1.0->ipywidgets) (3.0.0)\n",
      "Requirement already satisfied: pure-eval in c:\\users\\mroja\\appdata\\local\\packages\\pythonsoftwarefoundation.python.3.11_qbz5n2kfra8p0\\localcache\\local-packages\\python311\\site-packages (from stack_data->ipython>=6.1.0->ipywidgets) (0.2.3)\n",
      "Note: you may need to restart the kernel to use updated packages.\n"
     ]
    },
    {
     "name": "stderr",
     "output_type": "stream",
     "text": [
      "\n",
      "[notice] A new release of pip is available: 24.0 -> 25.1\n",
      "[notice] To update, run: C:\\Users\\mroja\\AppData\\Local\\Microsoft\\WindowsApps\\PythonSoftwareFoundation.Python.3.11_qbz5n2kfra8p0\\python.exe -m pip install --upgrade pip\n"
     ]
    }
   ],
   "source": [
    "%pip install ipywidgets"
   ]
  },
  {
   "cell_type": "code",
   "execution_count": 23,
   "metadata": {},
   "outputs": [
    {
     "name": "stderr",
     "output_type": "stream",
     "text": [
      "C:\\Users\\mroja\\AppData\\Local\\Temp\\ipykernel_15716\\3970994285.py:25: DeprecationWarning: on_submit is deprecated. Instead, set the .continuous_update attribute to False and observe the value changing with: mywidget.observe(callback, 'value').\n",
      "  input_box.on_submit(lambda _: on_submit({'type': 'submit'}))\n"
     ]
    },
    {
     "data": {
      "application/vnd.jupyter.widget-view+json": {
       "model_id": "c9087bfd5ec24064a170aa16d4180cf5",
       "version_major": 2,
       "version_minor": 0
      },
      "text/plain": [
       "Text(value='', description='Question:', layout=Layout(width='80%'), placeholder='Ask a Formula 1 question...')"
      ]
     },
     "metadata": {},
     "output_type": "display_data"
    },
    {
     "data": {
      "application/vnd.jupyter.widget-view+json": {
       "model_id": "311ef3f7374a4e6eb77cde1693734522",
       "version_major": 2,
       "version_minor": 0
      },
      "text/plain": [
       "Output()"
      ]
     },
     "metadata": {},
     "output_type": "display_data"
    }
   ],
   "source": [
    "import ipywidgets as widgets\n",
    "from IPython.display import display, clear_output\n",
    "\n",
    "input_box = widgets.Text(\n",
    "    value='',\n",
    "    placeholder='Ask a Formula 1 question...',\n",
    "    description='Question:',\n",
    "    disabled=False,\n",
    "    layout=widgets.Layout(width='80%')\n",
    ")\n",
    "output_area = widgets.Output()\n",
    "\n",
    "def on_submit(change):\n",
    "    if change['type'] == 'change' and change['name'] == 'value' and change['new'] == '':\n",
    "        # Only fetch results when user presses Enter (input_box.value is set to '' after Enter)\n",
    "        return\n",
    "    if change['type'] == 'change' and change['name'] == 'value':\n",
    "        return  # Ignore all other changes\n",
    "    # Only handle when user presses Enter (submit event)\n",
    "    with output_area:\n",
    "        clear_output(wait=True)\n",
    "        f1_chatbot.chat(input_box.value)\n",
    "    input_box.value = ''\n",
    "\n",
    "input_box.on_submit(lambda _: on_submit({'type': 'submit'}))\n",
    "display(input_box, output_area)"
   ]
  }
 ],
 "metadata": {
  "colab": {
   "provenance": []
  },
  "kernelspec": {
   "display_name": "Python 3",
   "name": "python3"
  },
  "language_info": {
   "codemirror_mode": {
    "name": "ipython",
    "version": 3
   },
   "file_extension": ".py",
   "mimetype": "text/x-python",
   "name": "python",
   "nbconvert_exporter": "python",
   "pygments_lexer": "ipython3",
   "version": "3.11.9"
  }
 },
 "nbformat": 4,
 "nbformat_minor": 0
}
